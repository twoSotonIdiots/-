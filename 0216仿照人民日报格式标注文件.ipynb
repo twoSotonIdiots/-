{
 "cells": [
  {
   "cell_type": "code",
   "execution_count": 1,
   "metadata": {},
   "outputs": [
    {
     "data": {
      "text/plain": [
       "(30, 30, 240)"
      ]
     },
     "execution_count": 1,
     "metadata": {},
     "output_type": "execute_result"
    }
   ],
   "source": [
    "import os \n",
    "target_dir = './data/labeled_data/binglitedian/'\n",
    "filenames = os.listdir(target_dir)\n",
    "\n",
    "len(filenames)\n",
    "# 前30个为测试集\n",
    "# 前30个为dev集\n",
    "# 其他为训练集\n",
    "test_filenames = filenames[:30]\n",
    "dev_filenames = filenames[30:60]\n",
    "train_filenames = filenames[60:]\n",
    "len(test_filenames),len(dev_filenames),len(train_filenames)"
   ]
  },
  {
   "cell_type": "code",
   "execution_count": 3,
   "metadata": {},
   "outputs": [],
   "source": [
    "test_txt = './0216dataset/test.txt'\n",
    "f = open(test_txt, 'w+', encoding='UTF-8')\n",
    "content = ''\n",
    "for file in test_filenames:\n",
    "    filepath = target_dir+file\n",
    "#     print(filepath)\n",
    "    content += open(filepath, encoding='UTF-8').read().strip()+'\\n\\n' # 加多空格\n",
    "content = content.replace('\\t',' ') # 把所有的\\t改成空格\n",
    "f.write(content)\n",
    "f.close()"
   ]
  },
  {
   "cell_type": "code",
   "execution_count": 6,
   "metadata": {},
   "outputs": [],
   "source": [
    "dev_txt = './0216dataset/dev.txt'\n",
    "f = open(dev_txt, 'w+', encoding='UTF-8')\n",
    "content = ''\n",
    "for file in dev_filenames:\n",
    "    filepath = target_dir+file\n",
    "    content += open(filepath, encoding='UTF-8').read().strip()+'\\n\\n'\n",
    "content = content.replace('\\t',' ') # 把所有的\\t改成空格\n",
    "f.write(content)\n",
    "f.close()"
   ]
  },
  {
   "cell_type": "code",
   "execution_count": 7,
   "metadata": {},
   "outputs": [],
   "source": [
    "train_txt = './0216dataset/train.txt'\n",
    "f = open(train_txt, 'w+', encoding='UTF-8')\n",
    "content = ''\n",
    "for file in train_filenames:\n",
    "    filepath = target_dir+file\n",
    "    content += open(filepath, encoding='UTF-8').read().strip()+'\\n\\n'\n",
    "content = content.replace('\\t',' ') # 把所有的\\t改成空格\n",
    "f.write(content)\n",
    "f.close()"
   ]
  },
  {
   "cell_type": "code",
   "execution_count": 8,
   "metadata": {},
   "outputs": [
    {
     "data": {
      "text/plain": [
       "241"
      ]
     },
     "execution_count": 8,
     "metadata": {},
     "output_type": "execute_result"
    }
   ],
   "source": [
    "# 检查\n",
    "len(open(train_txt,encoding = 'utf-8').read().split('\\n\\n'))"
   ]
  }
 ],
 "metadata": {
  "kernelspec": {
   "display_name": "Python 3",
   "language": "python",
   "name": "python3"
  },
  "language_info": {
   "codemirror_mode": {
    "name": "ipython",
    "version": 3
   },
   "file_extension": ".py",
   "mimetype": "text/x-python",
   "name": "python",
   "nbconvert_exporter": "python",
   "pygments_lexer": "ipython3",
   "version": "3.7.1"
  },
  "toc": {
   "base_numbering": 1,
   "nav_menu": {},
   "number_sections": true,
   "sideBar": true,
   "skip_h1_title": false,
   "title_cell": "Table of Contents",
   "title_sidebar": "Contents",
   "toc_cell": false,
   "toc_position": {},
   "toc_section_display": true,
   "toc_window_display": false
  }
 },
 "nbformat": 4,
 "nbformat_minor": 2
}
